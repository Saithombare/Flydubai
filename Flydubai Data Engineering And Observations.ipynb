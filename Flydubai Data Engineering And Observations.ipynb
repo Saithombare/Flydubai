{
 "cells": [
  {
   "cell_type": "markdown",
   "id": "ae359e5a",
   "metadata": {},
   "source": [
    "# Flydubai Data Engineering And Observations"
   ]
  },
  {
   "cell_type": "code",
   "execution_count": null,
   "id": "f1d76ef0",
   "metadata": {},
   "outputs": [],
   "source": []
  },
  {
   "cell_type": "markdown",
   "id": "b5defc67",
   "metadata": {},
   "source": [
    "# Data merging for Data Engineering"
   ]
  },
  {
   "cell_type": "code",
   "execution_count": null,
   "id": "96974f01",
   "metadata": {},
   "outputs": [],
   "source": [
    "The data we have is the PNR level data, In the dataset \n",
    "if the journey is return then same PNR is present for return journey. \n",
    "The unique identifier in the dataset is not PNR, The reason we have to create new unique identifier \n",
    "in the dataset using the combination of PNR+ORIGIN+DESTINATION to create new combine data."
   ]
  },
  {
   "cell_type": "code",
   "execution_count": null,
   "id": "9cc06d02",
   "metadata": {},
   "outputs": [],
   "source": [
    "import pandas as pd\n",
    "df1 = pd.read_excel(\"All_Base_Files.xlsx\")\n",
    "df2 = pd.read_excel(\"all_SSR.xlsx\")\n",
    "\n",
    "df1[\"UID\"] = df1[\"confirmation_num\"]+df1[\"from_airport\"]+df1[\"to_airport\"]\n",
    "df2[\"UID\"] = df2[\"pnr\"]+df2[\"from_airport\"]+df2[\"to_airport\"]\n",
    "\n",
    "new_df = df1.merge(df2,on = \"UID\" , how = \"left\")\n",
    "new_df.to_excel(\"df_cleaned_base.xlsx\")\n"
   ]
  },
  {
   "cell_type": "markdown",
   "id": "f50059c5",
   "metadata": {},
   "source": [
    "Added only ANC column in the dataset as ANC buy or Not"
   ]
  },
  {
   "cell_type": "code",
   "execution_count": 4,
   "id": "ac5f9237",
   "metadata": {},
   "outputs": [],
   "source": [
    "df = pd.read_excel(\"df_cleaned_base.xlsx\")"
   ]
  },
  {
   "cell_type": "code",
   "execution_count": 5,
   "id": "98f46244",
   "metadata": {},
   "outputs": [
    {
     "data": {
      "text/html": [
       "<div>\n",
       "<style scoped>\n",
       "    .dataframe tbody tr th:only-of-type {\n",
       "        vertical-align: middle;\n",
       "    }\n",
       "\n",
       "    .dataframe tbody tr th {\n",
       "        vertical-align: top;\n",
       "    }\n",
       "\n",
       "    .dataframe thead th {\n",
       "        text-align: right;\n",
       "    }\n",
       "</style>\n",
       "<table border=\"1\" class=\"dataframe\">\n",
       "  <thead>\n",
       "    <tr style=\"text-align: right;\">\n",
       "      <th></th>\n",
       "      <th>UID</th>\n",
       "      <th>confirmation_num</th>\n",
       "      <th>from_airport</th>\n",
       "      <th>to_airport</th>\n",
       "      <th>year(departure_dt)</th>\n",
       "      <th>month(departure_dt)</th>\n",
       "      <th>res_book_dt_lcl_key</th>\n",
       "      <th>departure_dt</th>\n",
       "      <th>journey_type</th>\n",
       "      <th>pax</th>\n",
       "      <th>rev</th>\n",
       "      <th>ADT</th>\n",
       "      <th>CHILD</th>\n",
       "      <th>INF</th>\n",
       "      <th>Days before departure</th>\n",
       "      <th>ANC</th>\n",
       "    </tr>\n",
       "  </thead>\n",
       "  <tbody>\n",
       "    <tr>\n",
       "      <th>0</th>\n",
       "      <td>RAALQXDXBGYD</td>\n",
       "      <td>RAALQX</td>\n",
       "      <td>DXB</td>\n",
       "      <td>GYD</td>\n",
       "      <td>2021</td>\n",
       "      <td>10</td>\n",
       "      <td>2021-10-27 00:00:00</td>\n",
       "      <td>2021-10-28 00:00:00</td>\n",
       "      <td>RT</td>\n",
       "      <td>7</td>\n",
       "      <td>3712.21</td>\n",
       "      <td>4</td>\n",
       "      <td>3</td>\n",
       "      <td>4</td>\n",
       "      <td>1</td>\n",
       "      <td>NaN</td>\n",
       "    </tr>\n",
       "    <tr>\n",
       "      <th>1</th>\n",
       "      <td>FP8S0JDXBTLV</td>\n",
       "      <td>FP8S0J</td>\n",
       "      <td>DXB</td>\n",
       "      <td>TLV</td>\n",
       "      <td>2021</td>\n",
       "      <td>9</td>\n",
       "      <td>2021-09-14 00:00:00</td>\n",
       "      <td>2021-09-15 00:00:00</td>\n",
       "      <td>OW</td>\n",
       "      <td>8</td>\n",
       "      <td>11018.90</td>\n",
       "      <td>5</td>\n",
       "      <td>3</td>\n",
       "      <td>3</td>\n",
       "      <td>1</td>\n",
       "      <td>NaN</td>\n",
       "    </tr>\n",
       "    <tr>\n",
       "      <th>2</th>\n",
       "      <td>QMI0J0DXBMHD</td>\n",
       "      <td>QMI0J0</td>\n",
       "      <td>DXB</td>\n",
       "      <td>MHD</td>\n",
       "      <td>2021</td>\n",
       "      <td>12</td>\n",
       "      <td>2021-12-06 00:00:00</td>\n",
       "      <td>2021-12-07 00:00:00</td>\n",
       "      <td>OW</td>\n",
       "      <td>9</td>\n",
       "      <td>7961.39</td>\n",
       "      <td>7</td>\n",
       "      <td>2</td>\n",
       "      <td>2</td>\n",
       "      <td>1</td>\n",
       "      <td>NaN</td>\n",
       "    </tr>\n",
       "    <tr>\n",
       "      <th>3</th>\n",
       "      <td>RAALQXGYDDXB</td>\n",
       "      <td>RAALQX</td>\n",
       "      <td>GYD</td>\n",
       "      <td>DXB</td>\n",
       "      <td>2021</td>\n",
       "      <td>10</td>\n",
       "      <td>2021-10-27 00:00:00</td>\n",
       "      <td>2021-10-31 00:00:00</td>\n",
       "      <td>RT</td>\n",
       "      <td>7</td>\n",
       "      <td>3315.00</td>\n",
       "      <td>4</td>\n",
       "      <td>3</td>\n",
       "      <td>4</td>\n",
       "      <td>4</td>\n",
       "      <td>NaN</td>\n",
       "    </tr>\n",
       "    <tr>\n",
       "      <th>4</th>\n",
       "      <td>XTBVKUMSQDXB</td>\n",
       "      <td>XTBVKU</td>\n",
       "      <td>MSQ</td>\n",
       "      <td>DXB</td>\n",
       "      <td>2022</td>\n",
       "      <td>2</td>\n",
       "      <td>2022-01-25 00:00:00</td>\n",
       "      <td>2022-02-20 00:00:00</td>\n",
       "      <td>OW</td>\n",
       "      <td>9</td>\n",
       "      <td>6091.33</td>\n",
       "      <td>7</td>\n",
       "      <td>2</td>\n",
       "      <td>1</td>\n",
       "      <td>26</td>\n",
       "      <td>NaN</td>\n",
       "    </tr>\n",
       "  </tbody>\n",
       "</table>\n",
       "</div>"
      ],
      "text/plain": [
       "            UID confirmation_num from_airport to_airport  year(departure_dt)  \\\n",
       "0  RAALQXDXBGYD           RAALQX          DXB        GYD                2021   \n",
       "1  FP8S0JDXBTLV           FP8S0J          DXB        TLV                2021   \n",
       "2  QMI0J0DXBMHD           QMI0J0          DXB        MHD                2021   \n",
       "3  RAALQXGYDDXB           RAALQX          GYD        DXB                2021   \n",
       "4  XTBVKUMSQDXB           XTBVKU          MSQ        DXB                2022   \n",
       "\n",
       "   month(departure_dt)  res_book_dt_lcl_key         departure_dt journey_type  \\\n",
       "0                   10  2021-10-27 00:00:00  2021-10-28 00:00:00           RT   \n",
       "1                    9  2021-09-14 00:00:00  2021-09-15 00:00:00           OW   \n",
       "2                   12  2021-12-06 00:00:00  2021-12-07 00:00:00           OW   \n",
       "3                   10  2021-10-27 00:00:00  2021-10-31 00:00:00           RT   \n",
       "4                    2  2022-01-25 00:00:00  2022-02-20 00:00:00           OW   \n",
       "\n",
       "   pax       rev  ADT  CHILD  INF  Days before departure  ANC  \n",
       "0    7   3712.21    4      3    4                      1  NaN  \n",
       "1    8  11018.90    5      3    3                      1  NaN  \n",
       "2    9   7961.39    7      2    2                      1  NaN  \n",
       "3    7   3315.00    4      3    4                      4  NaN  \n",
       "4    9   6091.33    7      2    1                     26  NaN  "
      ]
     },
     "execution_count": 5,
     "metadata": {},
     "output_type": "execute_result"
    }
   ],
   "source": [
    "df.head(5)"
   ]
  },
  {
   "cell_type": "raw",
   "id": "e39a164c",
   "metadata": {},
   "source": [
    "# Data Statistics\n",
    "\n",
    "Total Bookings = 368441\n",
    "Total Anc Buying Bookings = 103511\n",
    "Total Pax = 790186\n",
    "Total Adults = 727914\n",
    "Total Childs = 62272\n",
    "Total infants = 13890"
   ]
  },
  {
   "cell_type": "raw",
   "id": "7ee04223",
   "metadata": {},
   "source": [
    "# Converting Data into Readable Format\n",
    "\n",
    "1. from_airport = 1.Origin Country 2.Origin Region 3.Origin City\n",
    "2. to_airport = 1.Destination Country 2.Destination Region 3.Destination City"
   ]
  },
  {
   "cell_type": "code",
   "execution_count": 14,
   "id": "1e53aa02",
   "metadata": {},
   "outputs": [
    {
     "data": {
      "text/html": [
       "<div>\n",
       "<style scoped>\n",
       "    .dataframe tbody tr th:only-of-type {\n",
       "        vertical-align: middle;\n",
       "    }\n",
       "\n",
       "    .dataframe tbody tr th {\n",
       "        vertical-align: top;\n",
       "    }\n",
       "\n",
       "    .dataframe thead th {\n",
       "        text-align: right;\n",
       "    }\n",
       "</style>\n",
       "<table border=\"1\" class=\"dataframe\">\n",
       "  <thead>\n",
       "    <tr style=\"text-align: right;\">\n",
       "      <th></th>\n",
       "      <th>from_airport</th>\n",
       "      <th>Destination City</th>\n",
       "      <th>Destination Country</th>\n",
       "      <th>Destination Region</th>\n",
       "    </tr>\n",
       "  </thead>\n",
       "  <tbody>\n",
       "    <tr>\n",
       "      <th>0</th>\n",
       "      <td>ADD</td>\n",
       "      <td>Addis Ababa</td>\n",
       "      <td>Ethiopia</td>\n",
       "      <td>Africa</td>\n",
       "    </tr>\n",
       "    <tr>\n",
       "      <th>1</th>\n",
       "      <td>ADD</td>\n",
       "      <td>Addis Ababa</td>\n",
       "      <td>Ethiopia</td>\n",
       "      <td>Africa</td>\n",
       "    </tr>\n",
       "    <tr>\n",
       "      <th>2</th>\n",
       "      <td>ADD</td>\n",
       "      <td>Addis Ababa</td>\n",
       "      <td>Ethiopia</td>\n",
       "      <td>Africa</td>\n",
       "    </tr>\n",
       "    <tr>\n",
       "      <th>3</th>\n",
       "      <td>ADD</td>\n",
       "      <td>Addis Ababa</td>\n",
       "      <td>Ethiopia</td>\n",
       "      <td>Africa</td>\n",
       "    </tr>\n",
       "    <tr>\n",
       "      <th>4</th>\n",
       "      <td>ADE</td>\n",
       "      <td>Aden</td>\n",
       "      <td>Yemen</td>\n",
       "      <td>GCC</td>\n",
       "    </tr>\n",
       "  </tbody>\n",
       "</table>\n",
       "</div>"
      ],
      "text/plain": [
       "  from_airport Destination City Destination Country Destination Region\n",
       "0          ADD      Addis Ababa            Ethiopia             Africa\n",
       "1          ADD      Addis Ababa            Ethiopia             Africa\n",
       "2          ADD      Addis Ababa            Ethiopia             Africa\n",
       "3          ADD      Addis Ababa            Ethiopia             Africa\n",
       "4          ADE             Aden               Yemen                GCC"
      ]
     },
     "execution_count": 14,
     "metadata": {},
     "output_type": "execute_result"
    }
   ],
   "source": [
    "df_origin = pd.read_excel(\"Destination.xlsx\")\n",
    "df_origin.head(5)"
   ]
  },
  {
   "cell_type": "code",
   "execution_count": null,
   "id": "19eb2e65",
   "metadata": {},
   "outputs": [],
   "source": [
    "df.merge(df_origin,on = \"from_airport\" , how = \"left\")\n",
    "#Applying same for Destination"
   ]
  },
  {
   "cell_type": "code",
   "execution_count": 24,
   "id": "0b32a44f",
   "metadata": {},
   "outputs": [
    {
     "data": {
      "text/html": [
       "<div>\n",
       "<style scoped>\n",
       "    .dataframe tbody tr th:only-of-type {\n",
       "        vertical-align: middle;\n",
       "    }\n",
       "\n",
       "    .dataframe tbody tr th {\n",
       "        vertical-align: top;\n",
       "    }\n",
       "\n",
       "    .dataframe thead th {\n",
       "        text-align: right;\n",
       "    }\n",
       "</style>\n",
       "<table border=\"1\" class=\"dataframe\">\n",
       "  <thead>\n",
       "    <tr style=\"text-align: right;\">\n",
       "      <th></th>\n",
       "      <th>UID</th>\n",
       "      <th>confirmation_num</th>\n",
       "      <th>from_airport</th>\n",
       "      <th>to_airport</th>\n",
       "      <th>year(departure_dt)</th>\n",
       "      <th>month(departure_dt)</th>\n",
       "      <th>res_book_dt_lcl_key</th>\n",
       "      <th>departure_dt</th>\n",
       "      <th>journey_type</th>\n",
       "      <th>pax</th>\n",
       "      <th>...</th>\n",
       "      <th>INF</th>\n",
       "      <th>Days before departure</th>\n",
       "      <th>ANC</th>\n",
       "      <th>Origin City</th>\n",
       "      <th>Origin Country</th>\n",
       "      <th>Origin Region</th>\n",
       "      <th>Destination City</th>\n",
       "      <th>Destination Country</th>\n",
       "      <th>Destination Region</th>\n",
       "      <th>Dummy_Col</th>\n",
       "    </tr>\n",
       "  </thead>\n",
       "  <tbody>\n",
       "    <tr>\n",
       "      <th>0</th>\n",
       "      <td>RAALQXDXBGYD</td>\n",
       "      <td>RAALQX</td>\n",
       "      <td>DXB</td>\n",
       "      <td>GYD</td>\n",
       "      <td>2021</td>\n",
       "      <td>10</td>\n",
       "      <td>2021-10-27 00:00:00</td>\n",
       "      <td>2021-10-28 00:00:00</td>\n",
       "      <td>RT</td>\n",
       "      <td>7</td>\n",
       "      <td>...</td>\n",
       "      <td>4</td>\n",
       "      <td>1</td>\n",
       "      <td></td>\n",
       "      <td>Dubai</td>\n",
       "      <td>United Arab Emirates</td>\n",
       "      <td>Middle East</td>\n",
       "      <td>Baku</td>\n",
       "      <td>Azerbaijan</td>\n",
       "      <td>EU/CIS</td>\n",
       "      <td>1</td>\n",
       "    </tr>\n",
       "    <tr>\n",
       "      <th>1</th>\n",
       "      <td>FP8S0JDXBTLV</td>\n",
       "      <td>FP8S0J</td>\n",
       "      <td>DXB</td>\n",
       "      <td>TLV</td>\n",
       "      <td>2021</td>\n",
       "      <td>9</td>\n",
       "      <td>2021-09-14 00:00:00</td>\n",
       "      <td>2021-09-15 00:00:00</td>\n",
       "      <td>OW</td>\n",
       "      <td>8</td>\n",
       "      <td>...</td>\n",
       "      <td>3</td>\n",
       "      <td>1</td>\n",
       "      <td></td>\n",
       "      <td>Dubai</td>\n",
       "      <td>United Arab Emirates</td>\n",
       "      <td>Middle East</td>\n",
       "      <td>Tel Aviv</td>\n",
       "      <td>Israel</td>\n",
       "      <td>EU/CIS</td>\n",
       "      <td>1</td>\n",
       "    </tr>\n",
       "    <tr>\n",
       "      <th>2</th>\n",
       "      <td>QMI0J0DXBMHD</td>\n",
       "      <td>QMI0J0</td>\n",
       "      <td>DXB</td>\n",
       "      <td>MHD</td>\n",
       "      <td>2021</td>\n",
       "      <td>12</td>\n",
       "      <td>2021-12-06 00:00:00</td>\n",
       "      <td>2021-12-07 00:00:00</td>\n",
       "      <td>OW</td>\n",
       "      <td>9</td>\n",
       "      <td>...</td>\n",
       "      <td>2</td>\n",
       "      <td>1</td>\n",
       "      <td></td>\n",
       "      <td>Dubai</td>\n",
       "      <td>United Arab Emirates</td>\n",
       "      <td>Middle East</td>\n",
       "      <td>Mashhad</td>\n",
       "      <td>Iran</td>\n",
       "      <td>Middle East</td>\n",
       "      <td>1</td>\n",
       "    </tr>\n",
       "    <tr>\n",
       "      <th>3</th>\n",
       "      <td>RAALQXGYDDXB</td>\n",
       "      <td>RAALQX</td>\n",
       "      <td>GYD</td>\n",
       "      <td>DXB</td>\n",
       "      <td>2021</td>\n",
       "      <td>10</td>\n",
       "      <td>2021-10-27 00:00:00</td>\n",
       "      <td>2021-10-31 00:00:00</td>\n",
       "      <td>RT</td>\n",
       "      <td>7</td>\n",
       "      <td>...</td>\n",
       "      <td>4</td>\n",
       "      <td>4</td>\n",
       "      <td></td>\n",
       "      <td>Baku</td>\n",
       "      <td>Azerbaijan</td>\n",
       "      <td>EU/CIS</td>\n",
       "      <td>Dubai</td>\n",
       "      <td>United Arab Emirates</td>\n",
       "      <td>Middle East</td>\n",
       "      <td>1</td>\n",
       "    </tr>\n",
       "    <tr>\n",
       "      <th>4</th>\n",
       "      <td>XTBVKUMSQDXB</td>\n",
       "      <td>XTBVKU</td>\n",
       "      <td>MSQ</td>\n",
       "      <td>DXB</td>\n",
       "      <td>2022</td>\n",
       "      <td>2</td>\n",
       "      <td>2022-01-25 00:00:00</td>\n",
       "      <td>2022-02-20 00:00:00</td>\n",
       "      <td>OW</td>\n",
       "      <td>9</td>\n",
       "      <td>...</td>\n",
       "      <td>1</td>\n",
       "      <td>26</td>\n",
       "      <td></td>\n",
       "      <td>Minsk</td>\n",
       "      <td>Belarus</td>\n",
       "      <td>EU/CIS</td>\n",
       "      <td>Dubai</td>\n",
       "      <td>United Arab Emirates</td>\n",
       "      <td>Middle East</td>\n",
       "      <td>1</td>\n",
       "    </tr>\n",
       "  </tbody>\n",
       "</table>\n",
       "<p>5 rows × 23 columns</p>\n",
       "</div>"
      ],
      "text/plain": [
       "            UID confirmation_num from_airport to_airport  year(departure_dt)  \\\n",
       "0  RAALQXDXBGYD           RAALQX          DXB        GYD                2021   \n",
       "1  FP8S0JDXBTLV           FP8S0J          DXB        TLV                2021   \n",
       "2  QMI0J0DXBMHD           QMI0J0          DXB        MHD                2021   \n",
       "3  RAALQXGYDDXB           RAALQX          GYD        DXB                2021   \n",
       "4  XTBVKUMSQDXB           XTBVKU          MSQ        DXB                2022   \n",
       "\n",
       "   month(departure_dt)  res_book_dt_lcl_key         departure_dt journey_type  \\\n",
       "0                   10  2021-10-27 00:00:00  2021-10-28 00:00:00           RT   \n",
       "1                    9  2021-09-14 00:00:00  2021-09-15 00:00:00           OW   \n",
       "2                   12  2021-12-06 00:00:00  2021-12-07 00:00:00           OW   \n",
       "3                   10  2021-10-27 00:00:00  2021-10-31 00:00:00           RT   \n",
       "4                    2  2022-01-25 00:00:00  2022-02-20 00:00:00           OW   \n",
       "\n",
       "   pax  ...  INF  Days before departure  ANC  Origin City  \\\n",
       "0    7  ...    4                      1             Dubai   \n",
       "1    8  ...    3                      1             Dubai   \n",
       "2    9  ...    2                      1             Dubai   \n",
       "3    7  ...    4                      4              Baku   \n",
       "4    9  ...    1                     26             Minsk   \n",
       "\n",
       "         Origin Country Origin Region Destination City   Destination Country  \\\n",
       "0  United Arab Emirates   Middle East             Baku            Azerbaijan   \n",
       "1  United Arab Emirates   Middle East         Tel Aviv                Israel   \n",
       "2  United Arab Emirates   Middle East          Mashhad                  Iran   \n",
       "3            Azerbaijan        EU/CIS            Dubai  United Arab Emirates   \n",
       "4               Belarus        EU/CIS            Dubai  United Arab Emirates   \n",
       "\n",
       "  Destination Region Dummy_Col  \n",
       "0             EU/CIS         1  \n",
       "1             EU/CIS         1  \n",
       "2        Middle East         1  \n",
       "3        Middle East         1  \n",
       "4        Middle East         1  \n",
       "\n",
       "[5 rows x 23 columns]"
      ]
     },
     "execution_count": 24,
     "metadata": {},
     "output_type": "execute_result"
    }
   ],
   "source": [
    "df = df.fillna(\"\")\n",
    "df.head(5)"
   ]
  },
  {
   "cell_type": "markdown",
   "id": "e00c2f37",
   "metadata": {},
   "source": [
    "# EDA"
   ]
  },
  {
   "cell_type": "markdown",
   "id": "439574f9",
   "metadata": {},
   "source": [
    "# Origin Country"
   ]
  },
  {
   "cell_type": "code",
   "execution_count": 41,
   "id": "e9778a4f",
   "metadata": {},
   "outputs": [
    {
     "name": "stdout",
     "output_type": "stream",
     "text": [
      "United Arab Emirates contains      40.70910318062938% \n",
      "Azerbaijan contains      1.252655637621469% \n",
      "Russia contains      2.401770169423928% \n",
      "Saudi Arabia contains      4.304433860242516% \n",
      "India contains      12.406525390580061% \n",
      "Egypt contains      2.0052460826948297% \n",
      "Georgia contains      2.447980181465375% \n",
      "Kuwait contains      1.0994531495670448% \n",
      "Romania contains      1.7030594479341632% \n",
      "Pakistan contains      2.543851575742236% \n",
      "Bahrain contains      1.902088462452927% \n",
      "Ukraine contains      2.1745549649877667% \n",
      "Doha contains      4.020462790394453% \n",
      "Turkey contains      1.9555847004594156% \n",
      "Poland contains      1.3007830775484535% \n",
      "Israel contains      1.467599303590192% \n",
      "Serbia & Montenegro contains      1.037136743287085% \n"
     ]
    }
   ],
   "source": [
    "# Origin Country Wise Penetration\n",
    "\n",
    "Origin_Country = df[\"Origin Country\"].unique().tolist()\n",
    "for i in Origin_Country:\n",
    "    Origin = df[df[\"Origin Country\"] == i]\n",
    "    length = len(Origin)\n",
    "    Percent = length/521532\n",
    "    Percent = Percent*100\n",
    "    if Percent > 1:\n",
    "        print(f\"{i} contains      {Percent}% \")"
   ]
  },
  {
   "cell_type": "code",
   "execution_count": 42,
   "id": "3f967f00",
   "metadata": {},
   "outputs": [
    {
     "name": "stdout",
     "output_type": "stream",
     "text": [
      "United Arab Emirates contains      12.439505150211302% \n",
      "Saudi Arabia contains      1.170589724120476% \n",
      "India contains      3.627390073859322% \n",
      "Doha contains      1.0994531495670448% \n"
     ]
    }
   ],
   "source": [
    "# Origin Country Wise Ancillary buying Penetration\n",
    "df3 = df[df[\"ANC\"]!= \"\"]\n",
    "for i in Origin_Country:\n",
    "    Origin = df3[df3[\"Origin Country\"] == i]\n",
    "    length = len(Origin)\n",
    "    Percent = length/521532\n",
    "    Percent = Percent*100\n",
    "    if Percent > 1:\n",
    "        print(f\"{i} contains      {Percent}% \")"
   ]
  },
  {
   "cell_type": "code",
   "execution_count": 43,
   "id": "2f9aa2e0",
   "metadata": {},
   "outputs": [
    {
     "data": {
      "text/plain": [
       "<AxesSubplot:xlabel='Origin Country'>"
      ]
     },
     "execution_count": 43,
     "metadata": {},
     "output_type": "execute_result"
    },
    {
     "data": {
      "image/png": "[encoded data removed]",
      "text/plain": [
       "<Figure size 1440x576 with 1 Axes>"
      ]
     },
     "metadata": {
      "needs_background": "light"
     },
     "output_type": "display_data"
    }
   ],
   "source": [
    "# Origin Country wise Anc Buying\n",
    "\n",
    "df3 = df[df[\"ANC\"]!= \"\"]\n",
    "import matplotlib.pyplot as plt\n",
    "plt.figure(figsize=(20,8))\n",
    "df3.groupby(\"Origin Country\")[\"ANC\"].count().plot.bar()"
   ]
  },
  {
   "cell_type": "markdown",
   "id": "a9f3456c",
   "metadata": {},
   "source": [
    "# Destination Country"
   ]
  },
  {
   "cell_type": "code",
   "execution_count": 46,
   "id": "daea4c84",
   "metadata": {},
   "outputs": [
    {
     "data": {
      "text/plain": [
       "<AxesSubplot:xlabel='Destination Country'>"
      ]
     },
     "execution_count": 46,
     "metadata": {},
     "output_type": "execute_result"
    },
    {
     "data": {
      "image/png": "[encoded data removed]",
      "text/plain": [
       "<Figure size 1440x576 with 1 Axes>"
      ]
     },
     "metadata": {
      "needs_background": "light"
     },
     "output_type": "display_data"
    }
   ],
   "source": [
    "plt.figure(figsize=(20,8))\n",
    "df3.groupby(\"Destination Country\")[\"ANC\"].count().plot.bar()"
   ]
  },
  {
   "cell_type": "markdown",
   "id": "29a053e4",
   "metadata": {},
   "source": [
    "# Conclusion"
   ]
  },
  {
   "cell_type": "markdown",
   "id": "55d7ef45",
   "metadata": {},
   "source": [
    "Only Dominant Countries have higher percentage of buying Ancillary."
   ]
  },
  {
   "cell_type": "code",
   "execution_count": 47,
   "id": "673d7c1c",
   "metadata": {},
   "outputs": [
    {
     "data": {
      "text/plain": [
       "<AxesSubplot:xlabel='Destination Region'>"
      ]
     },
     "execution_count": 47,
     "metadata": {},
     "output_type": "execute_result"
    },
    {
     "data": {
      "image/png": "[encoded data removed]",
      "text/plain": [
       "<Figure size 1440x576 with 1 Axes>"
      ]
     },
     "metadata": {
      "needs_background": "light"
     },
     "output_type": "display_data"
    },
    {
     "data": {
      "image/png": "[encoded data removed]",
      "text/plain": [
       "<Figure size 1440x576 with 1 Axes>"
      ]
     },
     "metadata": {
      "needs_background": "light"
     },
     "output_type": "display_data"
    }
   ],
   "source": [
    "# Origin and Destination Region\n",
    "\n",
    "plt.figure(figsize=(20,8))\n",
    "df3.groupby(\"Origin Region\")[\"ANC\"].count().plot.bar()\n",
    "\n",
    "plt.figure(figsize=(20,8))\n",
    "df3.groupby(\"Destination Region\")[\"ANC\"].count().plot.bar()"
   ]
  },
  {
   "cell_type": "markdown",
   "id": "c4768153",
   "metadata": {},
   "source": [
    "# Conclusion"
   ]
  },
  {
   "cell_type": "markdown",
   "id": "01c05a4e",
   "metadata": {},
   "source": [
    "Most Of the Ancillaries are bought from Middle East"
   ]
  },
  {
   "cell_type": "markdown",
   "id": "7b3bc131",
   "metadata": {},
   "source": [
    "# Checking Combinations of Passengers "
   ]
  },
  {
   "cell_type": "code",
   "execution_count": 64,
   "id": "9d5dbfbf",
   "metadata": {},
   "outputs": [
    {
     "data": {
      "text/plain": [
       "<AxesSubplot:xlabel='pax'>"
      ]
     },
     "execution_count": 64,
     "metadata": {},
     "output_type": "execute_result"
    },
    {
     "data": {
      "image/png": "[encoded data removed]",
      "text/plain": [
       "<Figure size 432x288 with 1 Axes>"
      ]
     },
     "metadata": {
      "needs_background": "light"
     },
     "output_type": "display_data"
    }
   ],
   "source": [
    "df3.groupby(\"pax\")[\"ANC\"].count().plot.bar()\n"
   ]
  },
  {
   "cell_type": "markdown",
   "id": "0400423d",
   "metadata": {},
   "source": [
    "# Conclusion"
   ]
  },
  {
   "cell_type": "markdown",
   "id": "f612128b",
   "metadata": {},
   "source": [
    "Most Of the Ancillaries Bought when Adult == 1"
   ]
  },
  {
   "cell_type": "markdown",
   "id": "c40dfdec",
   "metadata": {},
   "source": [
    "# journey_type"
   ]
  },
  {
   "cell_type": "code",
   "execution_count": 63,
   "id": "c526dbbc",
   "metadata": {},
   "outputs": [
    {
     "data": {
      "text/plain": [
       "<AxesSubplot:xlabel='journey_type'>"
      ]
     },
     "execution_count": 63,
     "metadata": {},
     "output_type": "execute_result"
    },
    {
     "data": {
      "image/png": "[encoded data removed]",
      "text/plain": [
       "<Figure size 432x288 with 1 Axes>"
      ]
     },
     "metadata": {
      "needs_background": "light"
     },
     "output_type": "display_data"
    }
   ],
   "source": [
    "df3.groupby(\"journey_type\")[\"ANC\"].count().plot.bar()"
   ]
  },
  {
   "cell_type": "markdown",
   "id": "950a375a",
   "metadata": {},
   "source": [
    "# Days before departure"
   ]
  },
  {
   "cell_type": "code",
   "execution_count": 69,
   "id": "c942f824",
   "metadata": {},
   "outputs": [
    {
     "data": {
      "text/plain": [
       "<AxesSubplot:xlabel='Days before departure'>"
      ]
     },
     "execution_count": 69,
     "metadata": {},
     "output_type": "execute_result"
    },
    {
     "data": {
      "image/png": "[encoded data removed]",
      "text/plain": [
       "<Figure size 432x288 with 1 Axes>"
      ]
     },
     "metadata": {
      "needs_background": "light"
     },
     "output_type": "display_data"
    }
   ],
   "source": [
    "import seaborn as sns\n",
    "sns.boxplot(data = df3 , x = \"Days before departure\")"
   ]
  },
  {
   "cell_type": "code",
   "execution_count": 70,
   "id": "26f9ba65",
   "metadata": {},
   "outputs": [],
   "source": [
    "# Removing Outliers"
   ]
  },
  {
   "cell_type": "code",
   "execution_count": 72,
   "id": "8bbbc154",
   "metadata": {},
   "outputs": [
    {
     "name": "stdout",
     "output_type": "stream",
     "text": [
      "61.5\n"
     ]
    }
   ],
   "source": [
    "# IQR\n",
    "Q1 = np.percentile(df3['Days before departure'], 25,\n",
    "                   interpolation = 'midpoint')\n",
    " \n",
    "Q3 = np.percentile(df3['Days before departure'], 75,\n",
    "                   interpolation = 'midpoint')\n",
    "IQR = Q3 - Q1\n",
    "\n",
    "upper = Q3 +1.5*IQR\n",
    "\n",
    "lower = Q1 - 1.5*IQR\n",
    "\n",
    "print(upper)\n"
   ]
  },
  {
   "cell_type": "code",
   "execution_count": 75,
   "id": "b9f7ccc3",
   "metadata": {},
   "outputs": [
    {
     "name": "stderr",
     "output_type": "stream",
     "text": [
      "C:\\Users\\sahil_pc\\AppData\\Local\\Temp\\ipykernel_15332\\3243250616.py:2: SettingWithCopyWarning: \n",
      "A value is trying to be set on a copy of a slice from a DataFrame.\n",
      "Try using .loc[row_indexer,col_indexer] = value instead\n",
      "\n",
      "See the caveats in the documentation: https://pandas.pydata.org/pandas-docs/stable/user_guide/indexing.html#returning-a-view-versus-a-copy\n",
      "  df3[\"Days before departure\"] = np.where(df3[\"Days before departure\"]>61.5,61.5,df3[\"Days before departure\"])\n"
     ]
    },
    {
     "data": {
      "text/plain": [
       "<AxesSubplot:xlabel='Days before departure'>"
      ]
     },
     "execution_count": 75,
     "metadata": {},
     "output_type": "execute_result"
    },
    {
     "data": {
      "image/png": "[encoded data removed]",
      "text/plain": [
       "<Figure size 432x288 with 1 Axes>"
      ]
     },
     "metadata": {
      "needs_background": "light"
     },
     "output_type": "display_data"
    }
   ],
   "source": [
    "import numpy as np\n",
    "df3[\"Days before departure\"] = np.where(df3[\"Days before departure\"]>61.5,61.5,df3[\"Days before departure\"])\n",
    "sns.boxplot(data = df3 , x = \"Days before departure\")"
   ]
  },
  {
   "cell_type": "code",
   "execution_count": 77,
   "id": "6411a437",
   "metadata": {},
   "outputs": [
    {
     "data": {
      "text/plain": [
       "<AxesSubplot:xlabel='Days before departure'>"
      ]
     },
     "execution_count": 77,
     "metadata": {},
     "output_type": "execute_result"
    },
    {
     "data": {
      "image/png": "[encoded data removed]",
      "text/plain": [
       "<Figure size 1440x576 with 1 Axes>"
      ]
     },
     "metadata": {
      "needs_background": "light"
     },
     "output_type": "display_data"
    }
   ],
   "source": [
    "plt.figure(figsize=(20,8))\n",
    "df3.groupby(\"Days before departure\")[\"ANC\"].count().plot.bar()"
   ]
  },
  {
   "cell_type": "markdown",
   "id": "ed45d70c",
   "metadata": {},
   "source": [
    "# Conclusion"
   ]
  },
  {
   "cell_type": "markdown",
   "id": "8058607e",
   "metadata": {},
   "source": [
    "Most of the passengers book their ticket before 1 week of their departure Date"
   ]
  },
  {
   "cell_type": "markdown",
   "id": "4ee2396a",
   "metadata": {},
   "source": [
    "# Revenue"
   ]
  },
  {
   "cell_type": "code",
   "execution_count": 79,
   "id": "bf637c13",
   "metadata": {},
   "outputs": [
    {
     "data": {
      "text/plain": [
       "<AxesSubplot:xlabel='rev'>"
      ]
     },
     "execution_count": 79,
     "metadata": {},
     "output_type": "execute_result"
    },
    {
     "data": {
      "image/png": "[encoded data removed]",
      "text/plain": [
       "<Figure size 432x288 with 1 Axes>"
      ]
     },
     "metadata": {
      "needs_background": "light"
     },
     "output_type": "display_data"
    }
   ],
   "source": [
    "sns.boxplot(data = df3 , x = \"rev\")"
   ]
  },
  {
   "cell_type": "code",
   "execution_count": 80,
   "id": "6abfad41",
   "metadata": {},
   "outputs": [
    {
     "name": "stdout",
     "output_type": "stream",
     "text": [
      "3514.0175\n"
     ]
    }
   ],
   "source": [
    "# IQR\n",
    "Q1 = np.percentile(df3['rev'], 25,\n",
    "                   interpolation = 'midpoint')\n",
    " \n",
    "Q3 = np.percentile(df3['rev'], 75,\n",
    "                   interpolation = 'midpoint')\n",
    "IQR = Q3 - Q1\n",
    "\n",
    "upper = Q3 +1.5*IQR\n",
    "\n",
    "lower = Q1 - 1.5*IQR\n",
    "\n",
    "print(upper)"
   ]
  },
  {
   "cell_type": "code",
   "execution_count": 82,
   "id": "07afffd3",
   "metadata": {},
   "outputs": [
    {
     "name": "stderr",
     "output_type": "stream",
     "text": [
      "C:\\Users\\sahil_pc\\AppData\\Local\\Temp\\ipykernel_15332\\425410808.py:2: SettingWithCopyWarning: \n",
      "A value is trying to be set on a copy of a slice from a DataFrame.\n",
      "Try using .loc[row_indexer,col_indexer] = value instead\n",
      "\n",
      "See the caveats in the documentation: https://pandas.pydata.org/pandas-docs/stable/user_guide/indexing.html#returning-a-view-versus-a-copy\n",
      "  df3[\"rev\"] = np.where(df3[\"rev\"]>3514.0175,3514.0175,df3[\"rev\"])\n"
     ]
    },
    {
     "data": {
      "text/plain": [
       "<AxesSubplot:xlabel='rev'>"
      ]
     },
     "execution_count": 82,
     "metadata": {},
     "output_type": "execute_result"
    },
    {
     "data": {
      "image/png": "[encoded data removed]",
      "text/plain": [
       "<Figure size 432x288 with 1 Axes>"
      ]
     },
     "metadata": {
      "needs_background": "light"
     },
     "output_type": "display_data"
    }
   ],
   "source": [
    "df3 = df[df[\"ANC\"]!= \"\"]\n",
    "df3[\"rev\"] = np.where(df3[\"rev\"]>3514.0175,3514.0175,df3[\"rev\"])\n",
    "sns.boxplot(data = df3 , x = \"rev\")"
   ]
  },
  {
   "cell_type": "code",
   "execution_count": 87,
   "id": "62d9ec84",
   "metadata": {},
   "outputs": [
    {
     "name": "stderr",
     "output_type": "stream",
     "text": [
      "C:\\Users\\sahil_pc\\AppData\\Local\\Temp\\ipykernel_15332\\3942627838.py:1: SettingWithCopyWarning: \n",
      "A value is trying to be set on a copy of a slice from a DataFrame.\n",
      "Try using .loc[row_indexer,col_indexer] = value instead\n",
      "\n",
      "See the caveats in the documentation: https://pandas.pydata.org/pandas-docs/stable/user_guide/indexing.html#returning-a-view-versus-a-copy\n",
      "  df3[\"rev_group\"] = np.where(df3[\"rev\"]<500,\"0-500\",\" \")\n",
      "C:\\Users\\sahil_pc\\AppData\\Local\\Temp\\ipykernel_15332\\3942627838.py:2: SettingWithCopyWarning: \n",
      "A value is trying to be set on a copy of a slice from a DataFrame.\n",
      "Try using .loc[row_indexer,col_indexer] = value instead\n",
      "\n",
      "See the caveats in the documentation: https://pandas.pydata.org/pandas-docs/stable/user_guide/indexing.html#returning-a-view-versus-a-copy\n",
      "  df3[\"rev_group\"] = np.where(df3[\"rev\"]>500,\"500-1500\",df3[\"rev_group\"])\n",
      "C:\\Users\\sahil_pc\\AppData\\Local\\Temp\\ipykernel_15332\\3942627838.py:3: SettingWithCopyWarning: \n",
      "A value is trying to be set on a copy of a slice from a DataFrame.\n",
      "Try using .loc[row_indexer,col_indexer] = value instead\n",
      "\n",
      "See the caveats in the documentation: https://pandas.pydata.org/pandas-docs/stable/user_guide/indexing.html#returning-a-view-versus-a-copy\n",
      "  df3[\"rev_group\"] = np.where(df3[\"rev\"]>1500,\"1500-2500\",df3[\"rev_group\"])\n",
      "C:\\Users\\sahil_pc\\AppData\\Local\\Temp\\ipykernel_15332\\3942627838.py:4: SettingWithCopyWarning: \n",
      "A value is trying to be set on a copy of a slice from a DataFrame.\n",
      "Try using .loc[row_indexer,col_indexer] = value instead\n",
      "\n",
      "See the caveats in the documentation: https://pandas.pydata.org/pandas-docs/stable/user_guide/indexing.html#returning-a-view-versus-a-copy\n",
      "  df3[\"rev_group\"] = np.where(df3[\"rev\"]>2500,\"2500-3500\",df3[\"rev_group\"])\n",
      "C:\\Users\\sahil_pc\\AppData\\Local\\Temp\\ipykernel_15332\\3942627838.py:5: SettingWithCopyWarning: \n",
      "A value is trying to be set on a copy of a slice from a DataFrame.\n",
      "Try using .loc[row_indexer,col_indexer] = value instead\n",
      "\n",
      "See the caveats in the documentation: https://pandas.pydata.org/pandas-docs/stable/user_guide/indexing.html#returning-a-view-versus-a-copy\n",
      "  df3[\"rev_group\"] = np.where(df3[\"rev\"]>3500,\"3500+\",df3[\"rev_group\"])\n"
     ]
    },
    {
     "data": {
      "text/html": [
       "<div>\n",
       "<style scoped>\n",
       "    .dataframe tbody tr th:only-of-type {\n",
       "        vertical-align: middle;\n",
       "    }\n",
       "\n",
       "    .dataframe tbody tr th {\n",
       "        vertical-align: top;\n",
       "    }\n",
       "\n",
       "    .dataframe thead th {\n",
       "        text-align: right;\n",
       "    }\n",
       "</style>\n",
       "<table border=\"1\" class=\"dataframe\">\n",
       "  <thead>\n",
       "    <tr style=\"text-align: right;\">\n",
       "      <th></th>\n",
       "      <th>UID</th>\n",
       "      <th>confirmation_num</th>\n",
       "      <th>from_airport</th>\n",
       "      <th>to_airport</th>\n",
       "      <th>year(departure_dt)</th>\n",
       "      <th>month(departure_dt)</th>\n",
       "      <th>res_book_dt_lcl_key</th>\n",
       "      <th>departure_dt</th>\n",
       "      <th>journey_type</th>\n",
       "      <th>pax</th>\n",
       "      <th>...</th>\n",
       "      <th>Days before departure</th>\n",
       "      <th>ANC</th>\n",
       "      <th>Origin City</th>\n",
       "      <th>Origin Country</th>\n",
       "      <th>Origin Region</th>\n",
       "      <th>Destination City</th>\n",
       "      <th>Destination Country</th>\n",
       "      <th>Destination Region</th>\n",
       "      <th>Dummy_Col</th>\n",
       "      <th>rev_group</th>\n",
       "    </tr>\n",
       "  </thead>\n",
       "  <tbody>\n",
       "    <tr>\n",
       "      <th>6</th>\n",
       "      <td>DHH6AZKZNDXB</td>\n",
       "      <td>DHH6AZ</td>\n",
       "      <td>KZN</td>\n",
       "      <td>DXB</td>\n",
       "      <td>2021</td>\n",
       "      <td>11</td>\n",
       "      <td>2021-08-06 00:00:00</td>\n",
       "      <td>2021-11-06 00:00:00</td>\n",
       "      <td>RT</td>\n",
       "      <td>9</td>\n",
       "      <td>...</td>\n",
       "      <td>92</td>\n",
       "      <td>DHH6AZ</td>\n",
       "      <td>Kazan</td>\n",
       "      <td>Russia</td>\n",
       "      <td>EU/CIS</td>\n",
       "      <td>Dubai</td>\n",
       "      <td>United Arab Emirates</td>\n",
       "      <td>Middle East</td>\n",
       "      <td>1</td>\n",
       "      <td>3500+</td>\n",
       "    </tr>\n",
       "    <tr>\n",
       "      <th>7</th>\n",
       "      <td>DHH6AZDXBKZN</td>\n",
       "      <td>DHH6AZ</td>\n",
       "      <td>DXB</td>\n",
       "      <td>KZN</td>\n",
       "      <td>2021</td>\n",
       "      <td>11</td>\n",
       "      <td>2021-08-06 00:00:00</td>\n",
       "      <td>2021-11-17 00:00:00</td>\n",
       "      <td>RT</td>\n",
       "      <td>9</td>\n",
       "      <td>...</td>\n",
       "      <td>103</td>\n",
       "      <td>DHH6AZ</td>\n",
       "      <td>Dubai</td>\n",
       "      <td>United Arab Emirates</td>\n",
       "      <td>Middle East</td>\n",
       "      <td>Kazan</td>\n",
       "      <td>Russia</td>\n",
       "      <td>EU/CIS</td>\n",
       "      <td>1</td>\n",
       "      <td>3500+</td>\n",
       "    </tr>\n",
       "    <tr>\n",
       "      <th>10</th>\n",
       "      <td>U637URDMMDXB</td>\n",
       "      <td>U637UR</td>\n",
       "      <td>DMM</td>\n",
       "      <td>DXB</td>\n",
       "      <td>2021</td>\n",
       "      <td>12</td>\n",
       "      <td>2021-11-21 00:00:00</td>\n",
       "      <td>2021-12-01 00:00:00</td>\n",
       "      <td>RT</td>\n",
       "      <td>9</td>\n",
       "      <td>...</td>\n",
       "      <td>10</td>\n",
       "      <td>U637UR</td>\n",
       "      <td>Dhammam</td>\n",
       "      <td>Saudi Arabia</td>\n",
       "      <td>GCC</td>\n",
       "      <td>Dubai</td>\n",
       "      <td>United Arab Emirates</td>\n",
       "      <td>Middle East</td>\n",
       "      <td>1</td>\n",
       "      <td>1500-2500</td>\n",
       "    </tr>\n",
       "    <tr>\n",
       "      <th>11</th>\n",
       "      <td>9QZ93VCCUDXB</td>\n",
       "      <td>9QZ93V</td>\n",
       "      <td>CCU</td>\n",
       "      <td>DXB</td>\n",
       "      <td>2021</td>\n",
       "      <td>11</td>\n",
       "      <td>2021-10-26 00:00:00</td>\n",
       "      <td>2021-11-03 00:00:00</td>\n",
       "      <td>OW</td>\n",
       "      <td>9</td>\n",
       "      <td>...</td>\n",
       "      <td>8</td>\n",
       "      <td>9QZ93V</td>\n",
       "      <td>Kolatta</td>\n",
       "      <td>India</td>\n",
       "      <td>Subcontinent</td>\n",
       "      <td>Dubai</td>\n",
       "      <td>United Arab Emirates</td>\n",
       "      <td>Middle East</td>\n",
       "      <td>1</td>\n",
       "      <td>3500+</td>\n",
       "    </tr>\n",
       "    <tr>\n",
       "      <th>13</th>\n",
       "      <td>BUE0SSDXBSKT</td>\n",
       "      <td>BUE0SS</td>\n",
       "      <td>DXB</td>\n",
       "      <td>SKT</td>\n",
       "      <td>2021</td>\n",
       "      <td>9</td>\n",
       "      <td>2021-08-25 00:00:00</td>\n",
       "      <td>2021-09-25 00:00:00</td>\n",
       "      <td>OW</td>\n",
       "      <td>9</td>\n",
       "      <td>...</td>\n",
       "      <td>31</td>\n",
       "      <td>BUE0SS</td>\n",
       "      <td>Dubai</td>\n",
       "      <td>United Arab Emirates</td>\n",
       "      <td>Middle East</td>\n",
       "      <td>Sialkot</td>\n",
       "      <td>Pakistan</td>\n",
       "      <td>Subcontinent</td>\n",
       "      <td>1</td>\n",
       "      <td>3500+</td>\n",
       "    </tr>\n",
       "  </tbody>\n",
       "</table>\n",
       "<p>5 rows × 24 columns</p>\n",
       "</div>"
      ],
      "text/plain": [
       "             UID confirmation_num from_airport to_airport  year(departure_dt)  \\\n",
       "6   DHH6AZKZNDXB           DHH6AZ          KZN        DXB                2021   \n",
       "7   DHH6AZDXBKZN           DHH6AZ          DXB        KZN                2021   \n",
       "10  U637URDMMDXB           U637UR          DMM        DXB                2021   \n",
       "11  9QZ93VCCUDXB           9QZ93V          CCU        DXB                2021   \n",
       "13  BUE0SSDXBSKT           BUE0SS          DXB        SKT                2021   \n",
       "\n",
       "    month(departure_dt)  res_book_dt_lcl_key         departure_dt  \\\n",
       "6                    11  2021-08-06 00:00:00  2021-11-06 00:00:00   \n",
       "7                    11  2021-08-06 00:00:00  2021-11-17 00:00:00   \n",
       "10                   12  2021-11-21 00:00:00  2021-12-01 00:00:00   \n",
       "11                   11  2021-10-26 00:00:00  2021-11-03 00:00:00   \n",
       "13                    9  2021-08-25 00:00:00  2021-09-25 00:00:00   \n",
       "\n",
       "   journey_type  pax  ...  Days before departure     ANC  Origin City  \\\n",
       "6            RT    9  ...                     92  DHH6AZ        Kazan   \n",
       "7            RT    9  ...                    103  DHH6AZ        Dubai   \n",
       "10           RT    9  ...                     10  U637UR      Dhammam   \n",
       "11           OW    9  ...                      8  9QZ93V      Kolatta   \n",
       "13           OW    9  ...                     31  BUE0SS        Dubai   \n",
       "\n",
       "          Origin Country  Origin Region Destination City  \\\n",
       "6                 Russia         EU/CIS            Dubai   \n",
       "7   United Arab Emirates    Middle East            Kazan   \n",
       "10          Saudi Arabia            GCC            Dubai   \n",
       "11                 India   Subcontinent            Dubai   \n",
       "13  United Arab Emirates    Middle East          Sialkot   \n",
       "\n",
       "     Destination Country Destination Region Dummy_Col  rev_group  \n",
       "6   United Arab Emirates        Middle East         1      3500+  \n",
       "7                 Russia             EU/CIS         1      3500+  \n",
       "10  United Arab Emirates        Middle East         1  1500-2500  \n",
       "11  United Arab Emirates        Middle East         1      3500+  \n",
       "13              Pakistan       Subcontinent         1      3500+  \n",
       "\n",
       "[5 rows x 24 columns]"
      ]
     },
     "execution_count": 87,
     "metadata": {},
     "output_type": "execute_result"
    }
   ],
   "source": [
    "df3[\"rev_group\"] = np.where(df3[\"rev\"]<500,\"0-500\",\" \")\n",
    "df3[\"rev_group\"] = np.where(df3[\"rev\"]>500,\"500-1500\",df3[\"rev_group\"])\n",
    "df3[\"rev_group\"] = np.where(df3[\"rev\"]>1500,\"1500-2500\",df3[\"rev_group\"])\n",
    "df3[\"rev_group\"] = np.where(df3[\"rev\"]>2500,\"2500-3500\",df3[\"rev_group\"])\n",
    "df3[\"rev_group\"] = np.where(df3[\"rev\"]>3500,\"3500+\",df3[\"rev_group\"])\n",
    "df3.head(5)"
   ]
  },
  {
   "cell_type": "code",
   "execution_count": 88,
   "id": "15ed7f7f",
   "metadata": {},
   "outputs": [
    {
     "data": {
      "text/plain": [
       "<AxesSubplot:xlabel='rev_group'>"
      ]
     },
     "execution_count": 88,
     "metadata": {},
     "output_type": "execute_result"
    },
    {
     "data": {
      "image/png": "[encoded data removed]",
      "text/plain": [
       "<Figure size 432x288 with 1 Axes>"
      ]
     },
     "metadata": {
      "needs_background": "light"
     },
     "output_type": "display_data"
    }
   ],
   "source": [
    "df3.groupby(\"rev_group\")[\"ANC\"].count().sort_values(ascending = False).plot.bar()"
   ]
  },
  {
   "cell_type": "markdown",
   "id": "6551fe93",
   "metadata": {},
   "source": [
    "# Basic Statistics"
   ]
  },
  {
   "cell_type": "raw",
   "id": "1c6d01c4",
   "metadata": {},
   "source": [
    "# Segments\n",
    "\n",
    "All the segments are based on the Pax group + Days before Departure + Origin + Destination\n",
    "\n",
    "Total unique Values :\n",
    "Adult = 9\n",
    "Child = 8\n",
    "INF = 5\n",
    "Origin = Top 10\n",
    "Destination = Top 10\n",
    "days Before departure = 5\n",
    "\n",
    "Total Segments = 9 * 7 * 4 * 10 * 10 * 5 = 180000 Segments\n"
   ]
  },
  {
   "cell_type": "raw",
   "id": "ff24933a",
   "metadata": {},
   "source": [
    "# Total SSR Count = 259559\n",
    "# Total Meal = 11452\n",
    "# Total Bags = 76980\n",
    "# Total Seats = 171127"
   ]
  },
  {
   "cell_type": "code",
   "execution_count": null,
   "id": "18d2acce",
   "metadata": {},
   "outputs": [],
   "source": [
    "PNR Total Count\n",
    "\n",
    "SSR YES - 103511\n",
    "SSR NO - 264930\n",
    "\n",
    "\n",
    "SSR BREAKUP\n",
    "\n",
    "# Total SSR Count = 259559\n",
    "# Total Meal = 11452\n",
    "# Total Bags = 76980\n",
    "# Total Seats = 171127\n",
    "\n",
    "SSR BREAKUP WITH CODE TYPE\n",
    "\n",
    "ABAG = 665      27112.26\n",
    "BAGB = 23971    1669561.98\n",
    "BAGL = 10988    838975.75\n",
    "BAGX = 5310     568564.92\n",
    "BUPL = 9159     883798.86\n",
    "BUPX = 11973    2283285.21\n",
    "BUPZ = 14174    2670014.78\n",
    "SPEQ = 737      70111.32\n",
    "JUBX = 3        600\n",
    "\n",
    "MLIN = 11452    442771.17\n",
    "\n",
    "FRST = 45913    2456543.98\n",
    "XLGR = 56730    8345847.87\n",
    "SPST = 33207    1248603.21\n",
    "NSST = 35277    890644.39\n",
    "\n",
    "\n",
    "# Segments\n",
    "\n",
    "All the segments are based on the Pax group + Days before Departure + Origin + Destination\n",
    "\n",
    "Total unique Values :\n",
    "Adult = 9\n",
    "Child = 8\n",
    "INF = 5\n",
    "Origin = Top 11  [\"DXB\",\"DOH\",\"TBS\",\"OTP\",\"KBP\",\"DEL\",\"HBE\",\"TLV\",\"BOM\",\"DMM\",\"REST\"]\n",
    "Destination = Top 11  [\"DXB\",\"DOH\",\"TBS\",\"OTP\",\"DMM\",\"TLV\",\"KBP\",\"GYD\",\"HBE\",\"BOM\",\"REST\"]\n",
    "days Before departure = 5\n",
    "\n",
    "Total Segments = 9 * 7 * 4 * 11 * 11 * 5 = 217800 Segments\n",
    "\n"
   ]
  },
  {
   "cell_type": "code",
   "execution_count": null,
   "id": "84cc25b2",
   "metadata": {},
   "outputs": [],
   "source": [
    "# Total\n",
    "Total PNR = 368441    \n",
    "Total Journey = 521532\n",
    "Total Passengers = 787970\n",
    "Total Revenue = 73,14,08,135.6 + 2,23,96,435.70 = 75,38,04,570\n",
    "\n",
    "#Only SSR\n",
    "Total SSR bookings = 103511\n",
    "Total SSR journeys = 153388\n",
    "Total SSR counts = 259559\n",
    "Total SSR revenue amount =  23,60,38,624.2 + 2,23,96,435.70= 25,84,35,059.9\n",
    "\n",
    "#only base \n",
    "Total PNR =  264930\n",
    "Total Journey = 3,68,144\n",
    "Total Revenue (No ANC) = 49,53,34,047.7\n",
    "Total Revenue (With ANC) = 49,53,34,047.7 + 23,60,38,624.2 = 73,14,08,135.6\n",
    "  \n",
    "\n",
    "#SSR wise break up numbers and amount\n",
    "\n",
    "SSR   Count       Rev\n",
    "ABAG =665       27112.26\n",
    "BAGB =23971     1669561.98\n",
    "BAGL =10988     838975.75\n",
    "BAGX =5310      568564.92\n",
    "BUPL =9159      883798.86\n",
    "BUPX =11973     2283285.21\n",
    "BUPZ =14174     2670014.78\n",
    "SPEQ =737       70111.32\n",
    "JUBX =3         600\n",
    "\n",
    "MLIN =11452     442771.17\n",
    "\n",
    "FRST =45913     2456543.98\n",
    "XLGR =56730     8345847.87\n",
    "SPST =33207     1248603.21\n",
    "NSST =35277     890644.39\n",
    "\n",
    "% SSR = SSR Revenue / Total base Revenue\n",
    "\n",
    "=2,23,96,435.70 /  731408135.6 \n",
    "= 3%\n",
    "\n",
    "% SSR = SSR Revenue / (Total Base Revenue + SSR Revenue) \n",
    "= 2,23,96,435.70/ (731408135.6,2,23,96,435.70)\n",
    "=2.97%\n",
    "\n",
    "\n"
   ]
  },
  {
   "cell_type": "code",
   "execution_count": null,
   "id": "1238979b",
   "metadata": {},
   "outputs": [],
   "source": []
  },
  {
   "cell_type": "code",
   "execution_count": null,
   "id": "72392d19",
   "metadata": {},
   "outputs": [],
   "source": []
  },
  {
   "cell_type": "code",
   "execution_count": null,
   "id": "21ab9d56",
   "metadata": {},
   "outputs": [],
   "source": []
  }
 ],
 "metadata": {
  "kernelspec": {
   "display_name": "Python 3 (ipykernel)",
   "language": "python",
   "name": "python3"
  },
  "language_info": {
   "codemirror_mode": {
    "name": "ipython",
    "version": 3
   },
   "file_extension": ".py",
   "mimetype": "text/x-python",
   "name": "python",
   "nbconvert_exporter": "python",
   "pygments_lexer": "ipython3",
   "version": "3.9.12"
  }
 },
 "nbformat": 4,
 "nbformat_minor": 5
}
