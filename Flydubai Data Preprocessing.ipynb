{
 "cells": [
  {
   "cell_type": "markdown",
   "id": "8952b2b0",
   "metadata": {},
   "source": [
    "# Raw Data Files\n",
    "\n",
    "1. flydubai Sep_Oct 21     # Base file 1\n",
    "2. flyDubai Nov21_Dec21    # Base file 2\n",
    "3. flydubai Jan22_Feb22    # Base file 3\n",
    "\n",
    "4. flydubai SSR Sep21_Feb22    # Ancillary data file"
   ]
  },
  {
   "cell_type": "markdown",
   "id": "54627bef",
   "metadata": {},
   "source": [
    "# Data Preprocessing\n",
    "\n",
    "The data we have is the passenger level data to convert the data into structured format we have to convert the data into per journey wise data.\n",
    "\n",
    "Logic : if the journey type for the PNR is Return then replicating the row for single PNR with the combination of Origin and Destination.(If one way then single line for single PNR.)\n"
   ]
  },
  {
   "cell_type": "code",
   "execution_count": 19,
   "id": "6b11b37b",
   "metadata": {
    "scrolled": true
   },
   "outputs": [
    {
     "data": {
      "text/html": [
       "<div>\n",
       "<style scoped>\n",
       "    .dataframe tbody tr th:only-of-type {\n",
       "        vertical-align: middle;\n",
       "    }\n",
       "\n",
       "    .dataframe tbody tr th {\n",
       "        vertical-align: top;\n",
       "    }\n",
       "\n",
       "    .dataframe thead th {\n",
       "        text-align: right;\n",
       "    }\n",
       "</style>\n",
       "<table border=\"1\" class=\"dataframe\">\n",
       "  <thead>\n",
       "    <tr style=\"text-align: right;\">\n",
       "      <th></th>\n",
       "      <th>year(departure_dt)</th>\n",
       "      <th>month(departure_dt)</th>\n",
       "      <th>from_airport</th>\n",
       "      <th>to_airport</th>\n",
       "      <th>confirmation_num</th>\n",
       "      <th>person_org_id</th>\n",
       "      <th>res_book_dt_lcl_key</th>\n",
       "      <th>departure_dt</th>\n",
       "      <th>journey_type</th>\n",
       "      <th>pax_type_cde</th>\n",
       "      <th>rev</th>\n",
       "      <th>booking</th>\n",
       "    </tr>\n",
       "  </thead>\n",
       "  <tbody>\n",
       "    <tr>\n",
       "      <th>0</th>\n",
       "      <td>2021</td>\n",
       "      <td>10</td>\n",
       "      <td>DXB</td>\n",
       "      <td>FRU</td>\n",
       "      <td>M44L6M</td>\n",
       "      <td>152723640</td>\n",
       "      <td>2021-08-30 00:00:00</td>\n",
       "      <td>2021-10-02 00:00:00</td>\n",
       "      <td>RT</td>\n",
       "      <td>ADT</td>\n",
       "      <td>1007.45</td>\n",
       "      <td>1</td>\n",
       "    </tr>\n",
       "    <tr>\n",
       "      <th>1</th>\n",
       "      <td>2021</td>\n",
       "      <td>11</td>\n",
       "      <td>FRU</td>\n",
       "      <td>DXB</td>\n",
       "      <td>M44L6M</td>\n",
       "      <td>152723640</td>\n",
       "      <td>2021-08-30 00:00:00</td>\n",
       "      <td>2021-11-06 00:00:00</td>\n",
       "      <td>RT</td>\n",
       "      <td>ADT</td>\n",
       "      <td>690.00</td>\n",
       "      <td>1</td>\n",
       "    </tr>\n",
       "    <tr>\n",
       "      <th>2</th>\n",
       "      <td>2022</td>\n",
       "      <td>1</td>\n",
       "      <td>TLV</td>\n",
       "      <td>DXB</td>\n",
       "      <td>92ZLTD</td>\n",
       "      <td>162170563</td>\n",
       "      <td>2022-01-07 00:00:00</td>\n",
       "      <td>2022-01-13 00:00:00</td>\n",
       "      <td>OW</td>\n",
       "      <td>ADT</td>\n",
       "      <td>1175.36</td>\n",
       "      <td>1</td>\n",
       "    </tr>\n",
       "    <tr>\n",
       "      <th>3</th>\n",
       "      <td>2022</td>\n",
       "      <td>1</td>\n",
       "      <td>TLV</td>\n",
       "      <td>DXB</td>\n",
       "      <td>92ZLTD</td>\n",
       "      <td>162170562</td>\n",
       "      <td>2022-01-07 00:00:00</td>\n",
       "      <td>2022-01-13 00:00:00</td>\n",
       "      <td>OW</td>\n",
       "      <td>ADT</td>\n",
       "      <td>1330.10</td>\n",
       "      <td>1</td>\n",
       "    </tr>\n",
       "  </tbody>\n",
       "</table>\n",
       "</div>"
      ],
      "text/plain": [
       "   year(departure_dt)  month(departure_dt) from_airport to_airport  \\\n",
       "0                2021                   10          DXB        FRU   \n",
       "1                2021                   11          FRU        DXB   \n",
       "2                2022                    1          TLV        DXB   \n",
       "3                2022                    1          TLV        DXB   \n",
       "\n",
       "  confirmation_num  person_org_id  res_book_dt_lcl_key         departure_dt  \\\n",
       "0           M44L6M      152723640  2021-08-30 00:00:00  2021-10-02 00:00:00   \n",
       "1           M44L6M      152723640  2021-08-30 00:00:00  2021-11-06 00:00:00   \n",
       "2           92ZLTD      162170563  2022-01-07 00:00:00  2022-01-13 00:00:00   \n",
       "3           92ZLTD      162170562  2022-01-07 00:00:00  2022-01-13 00:00:00   \n",
       "\n",
       "  journey_type pax_type_cde      rev  booking  \n",
       "0           RT          ADT  1007.45        1  \n",
       "1           RT          ADT   690.00        1  \n",
       "2           OW          ADT  1175.36        1  \n",
       "3           OW          ADT  1330.10        1  "
      ]
     },
     "execution_count": 19,
     "metadata": {},
     "output_type": "execute_result"
    }
   ],
   "source": [
    "# Base data"
   ]
  },
  {
   "cell_type": "code",
   "execution_count": 21,
   "id": "e2bc2502",
   "metadata": {},
   "outputs": [
    {
     "data": {
      "text/html": [
       "<div>\n",
       "<style scoped>\n",
       "    .dataframe tbody tr th:only-of-type {\n",
       "        vertical-align: middle;\n",
       "    }\n",
       "\n",
       "    .dataframe tbody tr th {\n",
       "        vertical-align: top;\n",
       "    }\n",
       "\n",
       "    .dataframe thead th {\n",
       "        text-align: right;\n",
       "    }\n",
       "</style>\n",
       "<table border=\"1\" class=\"dataframe\">\n",
       "  <thead>\n",
       "    <tr style=\"text-align: right;\">\n",
       "      <th></th>\n",
       "      <th>confirmation_num</th>\n",
       "      <th>from_airport</th>\n",
       "      <th>to_airport</th>\n",
       "      <th>year(departure_dt)</th>\n",
       "      <th>month(departure_dt)</th>\n",
       "      <th>res_book_dt_lcl_key</th>\n",
       "      <th>departure_dt</th>\n",
       "      <th>journey_type</th>\n",
       "      <th>pax</th>\n",
       "      <th>rev</th>\n",
       "      <th>ADT</th>\n",
       "      <th>CHILD</th>\n",
       "      <th>INF</th>\n",
       "    </tr>\n",
       "  </thead>\n",
       "  <tbody>\n",
       "    <tr>\n",
       "      <th>0</th>\n",
       "      <td>M44L6M</td>\n",
       "      <td>FRU</td>\n",
       "      <td>DXB</td>\n",
       "      <td>2021</td>\n",
       "      <td>11</td>\n",
       "      <td>2021-08-30 00:00:00</td>\n",
       "      <td>2021-11-06 00:00:00</td>\n",
       "      <td>RT</td>\n",
       "      <td>1</td>\n",
       "      <td>690.00</td>\n",
       "      <td>1</td>\n",
       "      <td>0</td>\n",
       "      <td>0</td>\n",
       "    </tr>\n",
       "    <tr>\n",
       "      <th>1</th>\n",
       "      <td>M44L6M</td>\n",
       "      <td>DXB</td>\n",
       "      <td>FRU</td>\n",
       "      <td>2021</td>\n",
       "      <td>10</td>\n",
       "      <td>2021-08-30 00:00:00</td>\n",
       "      <td>2021-10-02 00:00:00</td>\n",
       "      <td>RT</td>\n",
       "      <td>1</td>\n",
       "      <td>1007.45</td>\n",
       "      <td>1</td>\n",
       "      <td>0</td>\n",
       "      <td>0</td>\n",
       "    </tr>\n",
       "    <tr>\n",
       "      <th>2</th>\n",
       "      <td>92ZLTD</td>\n",
       "      <td>TLV</td>\n",
       "      <td>DXB</td>\n",
       "      <td>2022</td>\n",
       "      <td>1</td>\n",
       "      <td>2022-01-07 00:00:00</td>\n",
       "      <td>2022-01-13 00:00:00</td>\n",
       "      <td>OW</td>\n",
       "      <td>2</td>\n",
       "      <td>2505.46</td>\n",
       "      <td>2</td>\n",
       "      <td>0</td>\n",
       "      <td>0</td>\n",
       "    </tr>\n",
       "  </tbody>\n",
       "</table>\n",
       "</div>"
      ],
      "text/plain": [
       "  confirmation_num from_airport to_airport  year(departure_dt)  \\\n",
       "0           M44L6M          FRU        DXB                2021   \n",
       "1           M44L6M          DXB        FRU                2021   \n",
       "2           92ZLTD          TLV        DXB                2022   \n",
       "\n",
       "   month(departure_dt)  res_book_dt_lcl_key         departure_dt journey_type  \\\n",
       "0                   11  2021-08-30 00:00:00  2021-11-06 00:00:00           RT   \n",
       "1                   10  2021-08-30 00:00:00  2021-10-02 00:00:00           RT   \n",
       "2                    1  2022-01-07 00:00:00  2022-01-13 00:00:00           OW   \n",
       "\n",
       "   pax      rev  ADT  CHILD  INF  \n",
       "0    1   690.00    1      0    0  \n",
       "1    1  1007.45    1      0    0  \n",
       "2    2  2505.46    2      0    0  "
      ]
     },
     "execution_count": 21,
     "metadata": {},
     "output_type": "execute_result"
    }
   ],
   "source": [
    "# Converted Data"
   ]
  },
  {
   "cell_type": "markdown",
   "id": "ad0977e1",
   "metadata": {},
   "source": [
    "# Checking Errors (Base Converted Data)"
   ]
  },
  {
   "cell_type": "code",
   "execution_count": null,
   "id": "d75918bd",
   "metadata": {},
   "outputs": [],
   "source": [
    "# Error 1\n",
    "\n",
    "Departure Date is Smaller than Flight Booking date\n",
    "\n",
    "for example : \n",
    "\n",
    "  PNR    O   D   Year  Month    Flight Book Date       Departure date     J. Type   T.Pax  Revenue      A   C   I \n",
    "HTRZW0\tBSR\tDXB\t 2021\t12\t   2021-12-12 00:00:00\t  2021-12-11 00:00:00\tOW\t      2\t   2178.78\t    2\t0\t0\n",
    "\n",
    "# Error 2\n",
    "\n",
    "Only infant travelling\n",
    "One child carrying one infant\n",
    "\n",
    "for example :\n",
    "\n",
    "  PNR    O   D   Year  Month    Flight Book Date       Departure date     J. Type   T.Pax  Revenue      A   C   I \n",
    "TAUCQA\tDXB\tHBE\t 2021\t11\t   2021-01-14 00:00:00\t2021-11-12 00:00:00\t    OW\t      0    \t89.29\t    0\t0\t1\n",
    "EW4WWE\tHBE\tDXB\t 2022\t2\t   2022-02-19 00:00:00\t2022-02-22 00:00:00\t    RT\t      1\t    489.15   \t0\t1\t1\n",
    "\n",
    "# Error 3\n",
    "\n",
    "Different Journey type for same PNR with same Origin Destination\n",
    "\n",
    "for example :\n",
    "\n",
    "year   Month   O     D     PNR      P. ID       Flight Book Date      Departure date     J. Type   P.type    Revenue   pax\n",
    "2022\t1\t  EBB\tMED\t JPS2KK\t163438161\t2022-01-25 00:00:00\t   2022-01-29 00:00:00\t   OW\t     ADT\t 1105.57\t1\n",
    "2022\t1\t  EBB\tMED\t JPS2KK\t163438159\t2022-01-25 00:00:00\t   2022-01-29 00:00:00\t   RT\t     ADT\t 1105.57\t1\n",
    "2022\t1\t  EBB\tMED\t JPS2KK\t163438160\t2022-01-25 00:00:00\t   2022-01-29 00:00:00\t   OW\t     ADT\t 1105.57\t1\n",
    "2022\t1\t  EBB\tMED\t JPS2KK\t163438158\t2022-01-25 00:00:00\t   2022-01-29 00:00:00\t   OW\t     ADT\t 1105.57\t1\n",
    "2022\t1\t  EBB\tMED\t JPS2KK\t163438164\t2022-01-25 00:00:00\t   2022-01-29 00:00:00\t   OW\t     ADT\t 1105.57\t1\n",
    "2022\t1\t  EBB\tMED\t JPS2KK\t163438163\t2022-01-25 00:00:00\t   2022-01-29 00:00:00\t   OW\t     ADT\t 1105.57\t1\n",
    "2022\t1\t  EBB\tMED\t JPS2KK\t163438157\t2022-01-25 00:00:00\t   2022-01-29 00:00:00\t   OW\t     ADT\t 1105.57\t1\n",
    "2022\t1\t  EBB\tMED\t JPS2KK\t163438162\t2022-01-25 00:00:00\t   2022-01-29 00:00:00\t   OW\t     ADT\t 1105.57\t1\n",
    "2022\t1\t  EBB\tMED\t JPS2KK\t163438156\t2022-01-25 00:00:00\t   2022-01-29 00:00:00\t   OW\t     ADT\t 1498.73\t1\n",
    "\n",
    "# Removing Errors from the base Data (Skipping Error 3)\n",
    "\n",
    "# Final Stats for Base Data Only \n",
    "\n",
    "Total Bookings = 368441\n",
    "Total journeys = 520916"
   ]
  },
  {
   "cell_type": "markdown",
   "id": "e1acf009",
   "metadata": {},
   "source": [
    "# Checking Data Types"
   ]
  },
  {
   "cell_type": "code",
   "execution_count": 7,
   "id": "26a86160",
   "metadata": {},
   "outputs": [
    {
     "name": "stdout",
     "output_type": "stream",
     "text": [
      "<class 'pandas.core.frame.DataFrame'>\n",
      "RangeIndex: 521532 entries, 0 to 521531\n",
      "Data columns (total 14 columns):\n",
      " #   Column                 Non-Null Count   Dtype  \n",
      "---  ------                 --------------   -----  \n",
      " 0   confirmation_num       521532 non-null  object \n",
      " 1   from_airport           521532 non-null  object \n",
      " 2   to_airport             521532 non-null  object \n",
      " 3   year(departure_dt)     521532 non-null  int64  \n",
      " 4   month(departure_dt)    521532 non-null  int64  \n",
      " 5   res_book_dt_lcl_key    521532 non-null  object \n",
      " 6   departure_dt           521532 non-null  object \n",
      " 7   journey_type           521532 non-null  object \n",
      " 8   pax                    521532 non-null  int64  \n",
      " 9   rev                    521532 non-null  float64\n",
      " 10  ADT                    521532 non-null  int64  \n",
      " 11  CHILD                  521532 non-null  int64  \n",
      " 12  INF                    521532 non-null  int64  \n",
      " 13  Days before departure  521532 non-null  int64  \n",
      "dtypes: float64(1), int64(7), object(6)\n",
      "memory usage: 55.7+ MB\n"
     ]
    }
   ],
   "source": [
    "df.info()"
   ]
  },
  {
   "cell_type": "code",
   "execution_count": 9,
   "id": "428509c2",
   "metadata": {},
   "outputs": [],
   "source": [
    "# Converting Date types from Object to Date\n",
    "\n",
    "df[\"res_book_dt_lcl_key\"] = pd.to_datetime(df[\"res_book_dt_lcl_key\"])\n",
    "df[\"departure_dt\"] = pd.to_datetime(df[\"departure_dt\"])"
   ]
  },
  {
   "cell_type": "code",
   "execution_count": 10,
   "id": "054a7fe6",
   "metadata": {},
   "outputs": [
    {
     "name": "stdout",
     "output_type": "stream",
     "text": [
      "<class 'pandas.core.frame.DataFrame'>\n",
      "RangeIndex: 521532 entries, 0 to 521531\n",
      "Data columns (total 14 columns):\n",
      " #   Column                 Non-Null Count   Dtype         \n",
      "---  ------                 --------------   -----         \n",
      " 0   confirmation_num       521532 non-null  object        \n",
      " 1   from_airport           521532 non-null  object        \n",
      " 2   to_airport             521532 non-null  object        \n",
      " 3   year(departure_dt)     521532 non-null  int64         \n",
      " 4   month(departure_dt)    521532 non-null  int64         \n",
      " 5   res_book_dt_lcl_key    521532 non-null  datetime64[ns]\n",
      " 6   departure_dt           521532 non-null  datetime64[ns]\n",
      " 7   journey_type           521532 non-null  object        \n",
      " 8   pax                    521532 non-null  int64         \n",
      " 9   rev                    521532 non-null  float64       \n",
      " 10  ADT                    521532 non-null  int64         \n",
      " 11  CHILD                  521532 non-null  int64         \n",
      " 12  INF                    521532 non-null  int64         \n",
      " 13  Days before departure  521532 non-null  int64         \n",
      "dtypes: datetime64[ns](2), float64(1), int64(7), object(4)\n",
      "memory usage: 55.7+ MB\n"
     ]
    }
   ],
   "source": [
    "df.info()"
   ]
  },
  {
   "cell_type": "markdown",
   "id": "de26ec5c",
   "metadata": {},
   "source": [
    "# Checking Null Values"
   ]
  },
  {
   "cell_type": "code",
   "execution_count": 24,
   "id": "31f6995b",
   "metadata": {},
   "outputs": [
    {
     "data": {
      "image/png": "[encoded data removed]",
      "text/plain": [
       "<Figure size 1800x720 with 2 Axes>"
      ]
     },
     "metadata": {
      "needs_background": "light"
     },
     "output_type": "display_data"
    },
    {
     "data": {
      "text/plain": [
       "<Figure size 720x288 with 0 Axes>"
      ]
     },
     "metadata": {},
     "output_type": "display_data"
    }
   ],
   "source": [
    "import missingno as msno\n",
    "import matplotlib.pyplot as plt\n",
    "msno.matrix(df)\n",
    "plt.figure(figsize = (10,4))\n",
    "plt.show()"
   ]
  },
  {
   "cell_type": "code",
   "execution_count": 23,
   "id": "68c77b30",
   "metadata": {},
   "outputs": [
    {
     "name": "stdout",
     "output_type": "stream",
     "text": [
      "No Missing Values Present in the dataset\n"
     ]
    }
   ],
   "source": [
    "print(\"No Missing Values Present in the dataset\")"
   ]
  },
  {
   "cell_type": "markdown",
   "id": "704d73cf",
   "metadata": {},
   "source": [
    "# Checking Duplicated Values"
   ]
  },
  {
   "cell_type": "code",
   "execution_count": 21,
   "id": "6b580549",
   "metadata": {},
   "outputs": [
    {
     "data": {
      "text/plain": [
       "0"
      ]
     },
     "execution_count": 21,
     "metadata": {},
     "output_type": "execute_result"
    }
   ],
   "source": [
    "df.duplicated().sum()"
   ]
  },
  {
   "cell_type": "code",
   "execution_count": 22,
   "id": "fe9d4a9a",
   "metadata": {},
   "outputs": [
    {
     "name": "stdout",
     "output_type": "stream",
     "text": [
      "No dublicated Values Present in the dataset\n"
     ]
    }
   ],
   "source": [
    "print(\"No dublicated Values Present in the dataset\")"
   ]
  },
  {
   "cell_type": "markdown",
   "id": "68a12b60",
   "metadata": {},
   "source": [
    "# Describing The Data"
   ]
  },
  {
   "cell_type": "code",
   "execution_count": 28,
   "id": "c64d34ee",
   "metadata": {},
   "outputs": [
    {
     "data": {
      "text/html": [
       "<div>\n",
       "<style scoped>\n",
       "    .dataframe tbody tr th:only-of-type {\n",
       "        vertical-align: middle;\n",
       "    }\n",
       "\n",
       "    .dataframe tbody tr th {\n",
       "        vertical-align: top;\n",
       "    }\n",
       "\n",
       "    .dataframe thead th {\n",
       "        text-align: right;\n",
       "    }\n",
       "</style>\n",
       "<table border=\"1\" class=\"dataframe\">\n",
       "  <thead>\n",
       "    <tr style=\"text-align: right;\">\n",
       "      <th></th>\n",
       "      <th>year(departure_dt)</th>\n",
       "      <th>month(departure_dt)</th>\n",
       "      <th>pax</th>\n",
       "      <th>rev</th>\n",
       "      <th>ADT</th>\n",
       "      <th>CHILD</th>\n",
       "      <th>INF</th>\n",
       "      <th>Days before departure</th>\n",
       "    </tr>\n",
       "  </thead>\n",
       "  <tbody>\n",
       "    <tr>\n",
       "      <th>count</th>\n",
       "      <td>521532.000000</td>\n",
       "      <td>521532.000000</td>\n",
       "      <td>521532.000000</td>\n",
       "      <td>521532.000000</td>\n",
       "      <td>521532.000000</td>\n",
       "      <td>521532.000000</td>\n",
       "      <td>521532.000000</td>\n",
       "      <td>521532.000000</td>\n",
       "    </tr>\n",
       "    <tr>\n",
       "      <th>mean</th>\n",
       "      <td>2021.327456</td>\n",
       "      <td>7.675487</td>\n",
       "      <td>1.515125</td>\n",
       "      <td>1402.354356</td>\n",
       "      <td>1.395723</td>\n",
       "      <td>0.119402</td>\n",
       "      <td>0.026633</td>\n",
       "      <td>19.689714</td>\n",
       "    </tr>\n",
       "    <tr>\n",
       "      <th>std</th>\n",
       "      <td>0.469286</td>\n",
       "      <td>4.402647</td>\n",
       "      <td>0.965120</td>\n",
       "      <td>1420.565201</td>\n",
       "      <td>0.766028</td>\n",
       "      <td>0.434806</td>\n",
       "      <td>0.165159</td>\n",
       "      <td>28.617179</td>\n",
       "    </tr>\n",
       "    <tr>\n",
       "      <th>min</th>\n",
       "      <td>2021.000000</td>\n",
       "      <td>1.000000</td>\n",
       "      <td>1.000000</td>\n",
       "      <td>0.000000</td>\n",
       "      <td>0.000000</td>\n",
       "      <td>0.000000</td>\n",
       "      <td>0.000000</td>\n",
       "      <td>0.000000</td>\n",
       "    </tr>\n",
       "    <tr>\n",
       "      <th>25%</th>\n",
       "      <td>2021.000000</td>\n",
       "      <td>2.000000</td>\n",
       "      <td>1.000000</td>\n",
       "      <td>633.850000</td>\n",
       "      <td>1.000000</td>\n",
       "      <td>0.000000</td>\n",
       "      <td>0.000000</td>\n",
       "      <td>4.000000</td>\n",
       "    </tr>\n",
       "    <tr>\n",
       "      <th>50%</th>\n",
       "      <td>2021.000000</td>\n",
       "      <td>10.000000</td>\n",
       "      <td>1.000000</td>\n",
       "      <td>982.240000</td>\n",
       "      <td>1.000000</td>\n",
       "      <td>0.000000</td>\n",
       "      <td>0.000000</td>\n",
       "      <td>10.000000</td>\n",
       "    </tr>\n",
       "    <tr>\n",
       "      <th>75%</th>\n",
       "      <td>2022.000000</td>\n",
       "      <td>11.000000</td>\n",
       "      <td>2.000000</td>\n",
       "      <td>1643.222500</td>\n",
       "      <td>2.000000</td>\n",
       "      <td>0.000000</td>\n",
       "      <td>0.000000</td>\n",
       "      <td>24.000000</td>\n",
       "    </tr>\n",
       "    <tr>\n",
       "      <th>max</th>\n",
       "      <td>2022.000000</td>\n",
       "      <td>12.000000</td>\n",
       "      <td>9.000000</td>\n",
       "      <td>39888.800000</td>\n",
       "      <td>9.000000</td>\n",
       "      <td>7.000000</td>\n",
       "      <td>4.000000</td>\n",
       "      <td>884.000000</td>\n",
       "    </tr>\n",
       "  </tbody>\n",
       "</table>\n",
       "</div>"
      ],
      "text/plain": [
       "       year(departure_dt)  month(departure_dt)            pax            rev  \\\n",
       "count       521532.000000        521532.000000  521532.000000  521532.000000   \n",
       "mean          2021.327456             7.675487       1.515125    1402.354356   \n",
       "std              0.469286             4.402647       0.965120    1420.565201   \n",
       "min           2021.000000             1.000000       1.000000       0.000000   \n",
       "25%           2021.000000             2.000000       1.000000     633.850000   \n",
       "50%           2021.000000            10.000000       1.000000     982.240000   \n",
       "75%           2022.000000            11.000000       2.000000    1643.222500   \n",
       "max           2022.000000            12.000000       9.000000   39888.800000   \n",
       "\n",
       "                 ADT          CHILD            INF  Days before departure  \n",
       "count  521532.000000  521532.000000  521532.000000          521532.000000  \n",
       "mean        1.395723       0.119402       0.026633              19.689714  \n",
       "std         0.766028       0.434806       0.165159              28.617179  \n",
       "min         0.000000       0.000000       0.000000               0.000000  \n",
       "25%         1.000000       0.000000       0.000000               4.000000  \n",
       "50%         1.000000       0.000000       0.000000              10.000000  \n",
       "75%         2.000000       0.000000       0.000000              24.000000  \n",
       "max         9.000000       7.000000       4.000000             884.000000  "
      ]
     },
     "execution_count": 28,
     "metadata": {},
     "output_type": "execute_result"
    }
   ],
   "source": [
    "df.describe()"
   ]
  },
  {
   "cell_type": "markdown",
   "id": "0164c92f",
   "metadata": {},
   "source": [
    "# Data Perprocessing (Ancillary Data)"
   ]
  },
  {
   "cell_type": "code",
   "execution_count": null,
   "id": "d5e7eb3a",
   "metadata": {},
   "outputs": [],
   "source": [
    "# Checking PNR which are present in the Anc Data but not in Base data\n",
    "\n",
    "Total PNR = 31\n",
    "\n",
    "For Example : NJJKWB , O4EZB8 , OHZFZX\n",
    "\n",
    "# Final Stats for Ancillary Data Only \n",
    "\n",
    "Total Bookings = 103511\n",
    "\n"
   ]
  },
  {
   "cell_type": "code",
   "execution_count": 5,
   "id": "21ab9d56",
   "metadata": {},
   "outputs": [],
   "source": [
    "import pandas as pd\n",
    "df = pd.read_excel(\"flydubai SSR Sep21_Feb22.xlsx\")"
   ]
  },
  {
   "cell_type": "markdown",
   "id": "8ddf6421",
   "metadata": {},
   "source": [
    "# Checking Data Types"
   ]
  },
  {
   "cell_type": "code",
   "execution_count": 6,
   "id": "3ddb8a7b",
   "metadata": {},
   "outputs": [
    {
     "name": "stdout",
     "output_type": "stream",
     "text": [
      "<class 'pandas.core.frame.DataFrame'>\n",
      "RangeIndex: 259672 entries, 0 to 259671\n",
      "Data columns (total 20 columns):\n",
      " #   Column               Non-Null Count   Dtype  \n",
      "---  ------               --------------   -----  \n",
      " 0   pnr                  259672 non-null  object \n",
      " 1   leg_departure_date   259672 non-null  int64  \n",
      " 2   od_flight_no         259672 non-null  object \n",
      " 3   leg_flight_no        259672 non-null  int64  \n",
      " 4   from_od              259672 non-null  object \n",
      " 5   to_od                259672 non-null  object \n",
      " 6   from_leg             259672 non-null  object \n",
      " 7   to_leg               259672 non-null  object \n",
      " 8   ssr_code             259672 non-null  object \n",
      " 9   ssr_booked_date      259672 non-null  int64  \n",
      " 10  ssr_booked_time      259672 non-null  object \n",
      " 11  ssr_booked_time_utc  259672 non-null  object \n",
      " 12  ssr_booked_channel   259672 non-null  int64  \n",
      " 13  ssr_paid_revenue     259672 non-null  float64\n",
      " 14  fare_brand_id        259672 non-null  int64  \n",
      " 15  booking_channel_id   259672 non-null  int64  \n",
      " 16  res_seg_status       259672 non-null  int64  \n",
      " 17  ptc_id               259672 non-null  int64  \n",
      " 18  charge_status        259672 non-null  int64  \n",
      " 19  Fare Brand           259672 non-null  object \n",
      "dtypes: float64(1), int64(9), object(10)\n",
      "memory usage: 39.6+ MB\n"
     ]
    }
   ],
   "source": [
    "df.info()"
   ]
  },
  {
   "cell_type": "code",
   "execution_count": 7,
   "id": "c54ebab8",
   "metadata": {},
   "outputs": [],
   "source": [
    "# Converting Date types from Object to Date\n",
    "\n",
    "df[\"leg_departure_date\"] = pd.to_datetime(df[\"leg_departure_date\"])\n",
    "df[\"ssr_booked_date\"] = pd.to_datetime(df[\"ssr_booked_date\"])\n",
    "df[\"ssr_booked_time\"] = pd.to_datetime(df[\"ssr_booked_time\"])"
   ]
  },
  {
   "cell_type": "code",
   "execution_count": 8,
   "id": "1144248d",
   "metadata": {},
   "outputs": [
    {
     "name": "stdout",
     "output_type": "stream",
     "text": [
      "<class 'pandas.core.frame.DataFrame'>\n",
      "RangeIndex: 259672 entries, 0 to 259671\n",
      "Data columns (total 20 columns):\n",
      " #   Column               Non-Null Count   Dtype         \n",
      "---  ------               --------------   -----         \n",
      " 0   pnr                  259672 non-null  object        \n",
      " 1   leg_departure_date   259672 non-null  datetime64[ns]\n",
      " 2   od_flight_no         259672 non-null  object        \n",
      " 3   leg_flight_no        259672 non-null  int64         \n",
      " 4   from_od              259672 non-null  object        \n",
      " 5   to_od                259672 non-null  object        \n",
      " 6   from_leg             259672 non-null  object        \n",
      " 7   to_leg               259672 non-null  object        \n",
      " 8   ssr_code             259672 non-null  object        \n",
      " 9   ssr_booked_date      259672 non-null  datetime64[ns]\n",
      " 10  ssr_booked_time      259672 non-null  datetime64[ns]\n",
      " 11  ssr_booked_time_utc  259672 non-null  object        \n",
      " 12  ssr_booked_channel   259672 non-null  int64         \n",
      " 13  ssr_paid_revenue     259672 non-null  float64       \n",
      " 14  fare_brand_id        259672 non-null  int64         \n",
      " 15  booking_channel_id   259672 non-null  int64         \n",
      " 16  res_seg_status       259672 non-null  int64         \n",
      " 17  ptc_id               259672 non-null  int64         \n",
      " 18  charge_status        259672 non-null  int64         \n",
      " 19  Fare Brand           259672 non-null  object        \n",
      "dtypes: datetime64[ns](3), float64(1), int64(7), object(9)\n",
      "memory usage: 39.6+ MB\n"
     ]
    }
   ],
   "source": [
    "df.info()"
   ]
  },
  {
   "cell_type": "markdown",
   "id": "eb61aeea",
   "metadata": {},
   "source": [
    "# Checking Null Values"
   ]
  },
  {
   "cell_type": "code",
   "execution_count": 10,
   "id": "87fcb442",
   "metadata": {},
   "outputs": [
    {
     "data": {
      "image/png": "[encoded data removed]",
      "text/plain": [
       "<Figure size 1800x720 with 2 Axes>"
      ]
     },
     "metadata": {
      "needs_background": "light"
     },
     "output_type": "display_data"
    },
    {
     "data": {
      "text/plain": [
       "<Figure size 720x288 with 0 Axes>"
      ]
     },
     "metadata": {},
     "output_type": "display_data"
    }
   ],
   "source": [
    "import missingno as msno\n",
    "import matplotlib.pyplot as plt\n",
    "msno.matrix(df)\n",
    "plt.figure(figsize = (10,4))\n",
    "plt.show()"
   ]
  },
  {
   "cell_type": "markdown",
   "id": "1bbada3d",
   "metadata": {},
   "source": [
    "# Describing The Data"
   ]
  },
  {
   "cell_type": "code",
   "execution_count": 15,
   "id": "bd7f5098",
   "metadata": {},
   "outputs": [
    {
     "data": {
      "text/html": [
       "<div>\n",
       "<style scoped>\n",
       "    .dataframe tbody tr th:only-of-type {\n",
       "        vertical-align: middle;\n",
       "    }\n",
       "\n",
       "    .dataframe tbody tr th {\n",
       "        vertical-align: top;\n",
       "    }\n",
       "\n",
       "    .dataframe thead th {\n",
       "        text-align: right;\n",
       "    }\n",
       "</style>\n",
       "<table border=\"1\" class=\"dataframe\">\n",
       "  <thead>\n",
       "    <tr style=\"text-align: right;\">\n",
       "      <th></th>\n",
       "      <th>leg_flight_no</th>\n",
       "      <th>ssr_booked_channel</th>\n",
       "      <th>ssr_paid_revenue</th>\n",
       "      <th>fare_brand_id</th>\n",
       "      <th>booking_channel_id</th>\n",
       "      <th>res_seg_status</th>\n",
       "      <th>ptc_id</th>\n",
       "      <th>charge_status</th>\n",
       "    </tr>\n",
       "  </thead>\n",
       "  <tbody>\n",
       "    <tr>\n",
       "      <th>count</th>\n",
       "      <td>259672.000000</td>\n",
       "      <td>259672.000000</td>\n",
       "      <td>259672.000000</td>\n",
       "      <td>259672.000000</td>\n",
       "      <td>259672.0</td>\n",
       "      <td>259672.000000</td>\n",
       "      <td>259672.000000</td>\n",
       "      <td>259672.000000</td>\n",
       "    </tr>\n",
       "    <tr>\n",
       "      <th>mean</th>\n",
       "      <td>1955.758087</td>\n",
       "      <td>4.531682</td>\n",
       "      <td>86.273912</td>\n",
       "      <td>5.781340</td>\n",
       "      <td>2.0</td>\n",
       "      <td>5.113297</td>\n",
       "      <td>1.332107</td>\n",
       "      <td>0.952001</td>\n",
       "    </tr>\n",
       "    <tr>\n",
       "      <th>std</th>\n",
       "      <td>2637.635132</td>\n",
       "      <td>4.460553</td>\n",
       "      <td>80.275544</td>\n",
       "      <td>0.565759</td>\n",
       "      <td>0.0</td>\n",
       "      <td>0.677194</td>\n",
       "      <td>1.245052</td>\n",
       "      <td>0.213765</td>\n",
       "    </tr>\n",
       "    <tr>\n",
       "      <th>min</th>\n",
       "      <td>1.000000</td>\n",
       "      <td>1.000000</td>\n",
       "      <td>-514.220000</td>\n",
       "      <td>4.000000</td>\n",
       "      <td>2.0</td>\n",
       "      <td>1.000000</td>\n",
       "      <td>1.000000</td>\n",
       "      <td>0.000000</td>\n",
       "    </tr>\n",
       "    <tr>\n",
       "      <th>25%</th>\n",
       "      <td>440.000000</td>\n",
       "      <td>2.000000</td>\n",
       "      <td>30.360000</td>\n",
       "      <td>5.000000</td>\n",
       "      <td>2.0</td>\n",
       "      <td>5.000000</td>\n",
       "      <td>1.000000</td>\n",
       "      <td>1.000000</td>\n",
       "    </tr>\n",
       "    <tr>\n",
       "      <th>50%</th>\n",
       "      <td>916.000000</td>\n",
       "      <td>2.000000</td>\n",
       "      <td>55.100000</td>\n",
       "      <td>6.000000</td>\n",
       "      <td>2.0</td>\n",
       "      <td>5.000000</td>\n",
       "      <td>1.000000</td>\n",
       "      <td>1.000000</td>\n",
       "    </tr>\n",
       "    <tr>\n",
       "      <th>75%</th>\n",
       "      <td>1787.000000</td>\n",
       "      <td>5.000000</td>\n",
       "      <td>145.000000</td>\n",
       "      <td>6.000000</td>\n",
       "      <td>2.0</td>\n",
       "      <td>5.000000</td>\n",
       "      <td>1.000000</td>\n",
       "      <td>1.000000</td>\n",
       "    </tr>\n",
       "    <tr>\n",
       "      <th>max</th>\n",
       "      <td>8974.000000</td>\n",
       "      <td>19.000000</td>\n",
       "      <td>735.000000</td>\n",
       "      <td>7.000000</td>\n",
       "      <td>2.0</td>\n",
       "      <td>9.000000</td>\n",
       "      <td>6.000000</td>\n",
       "      <td>1.000000</td>\n",
       "    </tr>\n",
       "  </tbody>\n",
       "</table>\n",
       "</div>"
      ],
      "text/plain": [
       "       leg_flight_no  ssr_booked_channel  ssr_paid_revenue  fare_brand_id  \\\n",
       "count  259672.000000       259672.000000     259672.000000  259672.000000   \n",
       "mean     1955.758087            4.531682         86.273912       5.781340   \n",
       "std      2637.635132            4.460553         80.275544       0.565759   \n",
       "min         1.000000            1.000000       -514.220000       4.000000   \n",
       "25%       440.000000            2.000000         30.360000       5.000000   \n",
       "50%       916.000000            2.000000         55.100000       6.000000   \n",
       "75%      1787.000000            5.000000        145.000000       6.000000   \n",
       "max      8974.000000           19.000000        735.000000       7.000000   \n",
       "\n",
       "       booking_channel_id  res_seg_status         ptc_id  charge_status  \n",
       "count            259672.0   259672.000000  259672.000000  259672.000000  \n",
       "mean                  2.0        5.113297       1.332107       0.952001  \n",
       "std                   0.0        0.677194       1.245052       0.213765  \n",
       "min                   2.0        1.000000       1.000000       0.000000  \n",
       "25%                   2.0        5.000000       1.000000       1.000000  \n",
       "50%                   2.0        5.000000       1.000000       1.000000  \n",
       "75%                   2.0        5.000000       1.000000       1.000000  \n",
       "max                   2.0        9.000000       6.000000       1.000000  "
      ]
     },
     "execution_count": 15,
     "metadata": {},
     "output_type": "execute_result"
    }
   ],
   "source": [
    "df.describe()"
   ]
  },
  {
   "cell_type": "code",
   "execution_count": null,
   "id": "8c56daee",
   "metadata": {},
   "outputs": [],
   "source": []
  }
 ],
 "metadata": {
  "kernelspec": {
   "display_name": "Python 3 (ipykernel)",
   "language": "python",
   "name": "python3"
  },
  "language_info": {
   "codemirror_mode": {
    "name": "ipython",
    "version": 3
   },
   "file_extension": ".py",
   "mimetype": "text/x-python",
   "name": "python",
   "nbconvert_exporter": "python",
   "pygments_lexer": "ipython3",
   "version": "3.9.12"
  }
 },
 "nbformat": 4,
 "nbformat_minor": 5
}
